{
  "nbformat": 4,
  "nbformat_minor": 0,
  "metadata": {
    "colab": {
      "provenance": [],
      "authorship_tag": "ABX9TyNPwD6FeCPdPvmLnHyLz8JD",
      "include_colab_link": true
    },
    "kernelspec": {
      "name": "python3",
      "display_name": "Python 3"
    },
    "language_info": {
      "name": "python"
    }
  },
  "cells": [
    {
      "cell_type": "markdown",
      "metadata": {
        "id": "view-in-github",
        "colab_type": "text"
      },
      "source": [
        "<a href=\"https://colab.research.google.com/github/RakeshMishra26mgh/Dsa17/blob/main/Dsa17.ipynb\" target=\"_parent\"><img src=\"https://colab.research.google.com/assets/colab-badge.svg\" alt=\"Open In Colab\"/></a>"
      ]
    },
    {
      "cell_type": "markdown",
      "source": [
        "Answer 1:-"
      ],
      "metadata": {
        "id": "c4I2a-nnHRnN"
      }
    },
    {
      "cell_type": "code",
      "source": [
        "def first_non_repeating(s):\n",
        "  freq = {}\n",
        "  for c in s:\n",
        "    freq[c] = freq.get(c, 0) + 1\n",
        "  for i, c in enumerate(s):\n",
        "    if freq[c] == 1:\n",
        "      return i\n",
        "  return -1\n",
        "\n",
        "s = input(\"Enter a string: \")\n",
        "\n",
        "result = first_non_repeating(s)\n",
        "if result == -1:\n",
        "  print(\"No non-repeating character found.\")\n",
        "else:\n",
        "  print(f\"The first non-repeating character is {s[result]} at index {result}.\")"
      ],
      "metadata": {
        "id": "rrBnClT9HU5l"
      },
      "execution_count": null,
      "outputs": []
    },
    {
      "cell_type": "markdown",
      "source": [
        "Answer 2:-"
      ],
      "metadata": {
        "id": "t6t0vUTsJgJL"
      }
    },
    {
      "cell_type": "code",
      "source": [
        "def max_circular_subarray(nums):\n",
        "  max_sum = min_sum = nums[0]\n",
        "  curr_max = curr_min = nums[0]\n",
        "  for num in nums[1:]:\n",
        "    curr_max = max(num, curr_max + num)\n",
        "    curr_min = min(num, curr_min + num)\n",
        "    max_sum = max(max_sum, curr_max)\n",
        "    min_sum = min(min_sum, curr_min)\n",
        "  return max_sum if min_sum == sum(nums) else max(max_sum, sum(nums) - min_sum)\n",
        "\n",
        "n = int(input(\"Enter the length of the array: \"))\n",
        "nums = []\n",
        "for i in range(n):\n",
        "  num = int(input(f\"Enter element {i+1}: \"))\n",
        "  nums.append(num)\n",
        "\n",
        "result = max_circular_subarray(nums)\n",
        "print(f\"The maximum possible sum of a non-empty subarray of the circular array is {result}.\")\n"
      ],
      "metadata": {
        "id": "DShIehhgJjgT"
      },
      "execution_count": null,
      "outputs": []
    },
    {
      "cell_type": "markdown",
      "source": [
        "Answer 3:-"
      ],
      "metadata": {
        "id": "nVcQ-vTaJr-E"
      }
    },
    {
      "cell_type": "code",
      "source": [
        "def count_unable(students, sandwiches):\n",
        "  from collections import deque\n",
        "  students = deque(students)\n",
        "  sandwiches = deque(sandwiches)\n",
        "  rejected = 0\n",
        "  while students and sandwiches and rejected < len(students):\n",
        "    if students[0] == sandwiches[0]:\n",
        "      students.popleft()\n",
        "      sandwiches.popleft()\n",
        "      rejected = 0\n",
        "    else:\n",
        "      students.rotate(-1)\n",
        "      rejected += 1\n",
        "  return len(students)\n",
        "\n",
        "n = int(input(\"Enter the number of students and sandwiches: \"))\n",
        "students = []\n",
        "sandwiches = []\n",
        "print(\"Enter the preferences of the students (0 for circular, 1 for square): \")\n",
        "for i in range(n):\n",
        "  pref = int(input(f\"Student {i+1}: \"))\n",
        "  students.append(pref)\n",
        "print(\"Enter the types of the sandwiches (0 for circular, 1 for square): \")\n",
        "for i in range(n):\n",
        "  typ = int(input(f\"Sandwich {i+1}: \"))\n",
        "  sandwiches.append(typ)\n",
        "\n",
        "result = count_unable(students, sandwiches)\n",
        "print(f\"The number of students that are unable to eat is {result}.\")\n"
      ],
      "metadata": {
        "id": "llalroNcJuBj"
      },
      "execution_count": null,
      "outputs": []
    },
    {
      "cell_type": "markdown",
      "source": [
        "Answer 4:-"
      ],
      "metadata": {
        "id": "1oiqImaiLqVZ"
      }
    },
    {
      "cell_type": "code",
      "source": [
        "class RecentCounter:\n",
        "  def __init__(self):\n",
        "    from collections import deque\n",
        "    self.queue = deque()\n",
        "\n",
        "  def ping(self, t: int) -> int:\n",
        "    self.queue.append(t)\n",
        "    while self.queue[0] < t - 3000:\n",
        "      self.queue.popleft()\n",
        "    return len(self.queue)\n",
        "\n",
        "n = int(input(\"Enter the number of requests: \"))\n",
        "times = []\n",
        "print(\"Enter the times of the requests in milliseconds: \")\n",
        "for i in range(n):\n",
        "  time = int(input(f\"Request {i+1}: \"))\n",
        "  times.append(time)\n",
        "\n",
        "recentCounter = RecentCounter()\n",
        "for time in times:\n",
        "  result = recentCounter.ping(time)\n",
        "  print(f\"The number of recent requests at time {time} is {result}.\")\n"
      ],
      "metadata": {
        "id": "opkdLD4NLv4h"
      },
      "execution_count": null,
      "outputs": []
    },
    {
      "cell_type": "markdown",
      "source": [
        "Answer 5:-"
      ],
      "metadata": {
        "id": "1znRtc5QNxnY"
      }
    },
    {
      "cell_type": "code",
      "source": [
        "def find_winner(n, k):\n",
        "  friends = list(range(1, n + 1))\n",
        "  index = 0\n",
        "  while len(friends) > 1:\n",
        "    index = (index + k - 1) % len(friends)\n",
        "    friends.pop(index)\n",
        "  return friends[0]\n",
        "\n",
        "n = int(input(\"Enter the number of friends: \"))\n",
        "k = int(input(\"Enter the number of friends to count: \"))\n",
        "\n",
        "result = find_winner(n, k)\n",
        "print(f\"The winner of the game is friend {result}.\")\n"
      ],
      "metadata": {
        "id": "c4bgryT6N0nB"
      },
      "execution_count": null,
      "outputs": []
    },
    {
      "cell_type": "markdown",
      "source": [
        "Answer 6:-"
      ],
      "metadata": {
        "id": "Mzx3LcHhPpn3"
      }
    },
    {
      "cell_type": "code",
      "source": [
        "def reveal_cards(deck):\n",
        "  deck.sort(reverse=True)\n",
        "  result = []\n",
        "  for card in deck:\n",
        "    if result:\n",
        "      result.insert(0, result.pop())\n",
        "    result.insert(0, card)\n",
        "  return result\n",
        "\n",
        "n = int(input(\"Enter the number of cards: \"))\n",
        "deck = []\n",
        "print(\"Enter the integers on the cards: \")\n",
        "for i in range(n):\n",
        "  card = int(input(f\"Card {i+1}: \"))\n",
        "  deck.append(card)\n",
        "\n",
        "result = reveal_cards(deck)\n",
        "print(f\"The reordered deck that reveals the cards in increasing order is {result}.\")\n"
      ],
      "metadata": {
        "id": "afbMtkmoPuzm"
      },
      "execution_count": null,
      "outputs": []
    },
    {
      "cell_type": "markdown",
      "source": [
        "Answer 7:-"
      ],
      "metadata": {
        "id": "a2h8r87gP9Av"
      }
    },
    {
      "cell_type": "code",
      "source": [
        "\n",
        "class FrontMiddleBackQueue:\n",
        "  def __init__(self):\n",
        "    self.queue = []\n",
        "\n",
        "  def pushFront(self, val: int) -> None:\n",
        "    self.queue.insert(0, val)\n",
        "\n",
        "  def pushMiddle(self, val: int) -> None:\n",
        "    mid = len(self.queue) // 2\n",
        "    self.queue.insert(mid, val)\n",
        "\n",
        "  def pushBack(self, val: int) -> None:\n",
        "    self.queue.append(val)\n",
        "\n",
        "  def popFront(self) -> int:\n",
        "    if not self.queue:\n",
        "      return -1\n",
        "    return self.queue.pop(0)\n",
        "\n",
        "  def popMiddle(self) -> int:\n",
        "    if not self.queue:\n",
        "      return -1\n",
        "    mid = len(self.queue) // 2\n",
        "    return self.queue.pop(mid)\n",
        "\n",
        "  def popBack(self) -> int:\n",
        "    if not self.queue:\n",
        "      return -1\n",
        "    return self.queue.pop()\n",
        "\n",
        "n = int(input(\"Enter the number of operations: \"))\n",
        "operations = []\n",
        "values = []\n",
        "print(\"Enter the operations (pushFront, pushMiddle, pushBack, popFront, popMiddle, or popBack): \")\n",
        "for i in range(n):\n",
        "  op = input(f\"Operation {i+1}: \")\n",
        "  operations.append(op)\n",
        "  if op.startswith(\"push\"):\n",
        "    val = int(input(f\"Value {i+1}: \"))\n",
        "    values.append(val)\n",
        "  else:\n",
        "    values.append(None)\n",
        "\n",
        "queue = FrontMiddleBackQueue()\n",
        "results = []\n",
        "for i in range(n):\n",
        "  op = operations[i]\n",
        "  val = values[i]\n",
        "  if op == \"pushFront\":\n",
        "    queue.pushFront(val)\n",
        "    results.append(None)\n",
        "  elif op == \"pushMiddle\":\n",
        "    queue.pushMiddle(val)\n",
        "    results.append(None)\n",
        "  elif op == \"pushBack\":\n",
        "    queue.pushBack(val)\n",
        "    results.append(None)\n",
        "  elif op == \"popFront\":\n",
        "    result = queue.popFront()\n",
        "    results.append(result)\n",
        "  elif op == \"popMiddle\":\n",
        "    result = queue.popMiddle()\n",
        "    results.append(result)\n",
        "  elif op == \"popBack\":\n",
        "    result = queue.popBack()\n",
        "    results.append(result)\n",
        "print(f\"The results of the operations are {results}.\")\n",
        "\n"
      ],
      "metadata": {
        "id": "Uv7ADkqiP_6-"
      },
      "execution_count": null,
      "outputs": []
    },
    {
      "cell_type": "markdown",
      "source": [
        "Answer 8:-"
      ],
      "metadata": {
        "id": "bjEp__VPSwuU"
      }
    },
    {
      "cell_type": "code",
      "source": [
        "class DataStream:\n",
        "  def __init__(self, value: int, k: int):\n",
        "    self.stream = []\n",
        "    self.value = value\n",
        "    self.k = k\n",
        "\n",
        "  def consec(self, num: int) -> bool:\n",
        "    self.stream.append(num)\n",
        "    if len(self.stream) < self.k:\n",
        "      return False\n",
        "    return all(x == self.value for x in self.stream[-self.k:])\n",
        "\n",
        "value = int(input(\"Enter the value (n): \"))\n",
        "k = int(input(\"Enter the number of consecutive integers (k): \"))\n",
        "n = int(input(\"Enter the number of integers in the stream: \"))\n",
        "nums = []\n",
        "print(\"Enter the integers in the stream: \")\n",
        "for i in range(n):\n",
        "  num = int(input(f\"Integer {i+1}: \"))\n",
        "  nums.append(num)\n",
        "\n",
        "dataStream = DataStream(value, k)\n",
        "results = []\n",
        "for num in nums:\n",
        "  result = dataStream.consec(num)\n",
        "  results.append(result)\n",
        "\n",
        "print(f\"The results of checking consecutiveness are {results}.\")\n",
        "\n"
      ],
      "metadata": {
        "id": "Lex8TPzOS1wU"
      },
      "execution_count": null,
      "outputs": []
    }
  ]
}